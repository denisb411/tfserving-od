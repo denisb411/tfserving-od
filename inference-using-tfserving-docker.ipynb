{
 "cells": [
  {
   "cell_type": "code",
   "execution_count": 63,
   "metadata": {},
   "outputs": [],
   "source": [
    "import tensorflow as tf\n",
    "import os\n",
    "import time\n",
    "import numpy as np\n",
    "import glob\n",
    "from PIL import Image\n",
    "\n",
    "import grpc\n",
    "from tensorflow_serving.apis import predict_pb2\n",
    "from tensorflow_serving.apis import prediction_service_pb2_grpc"
   ]
  },
  {
   "cell_type": "markdown",
   "metadata": {},
   "source": [
    "## Download model ##"
   ]
  },
  {
   "cell_type": "code",
   "execution_count": 33,
   "metadata": {},
   "outputs": [],
   "source": [
    "def download_model():\n",
    "    base_url = 'http://download.tensorflow.org/models/object_detection/faster_rcnn_resnet101_coco_2018_01_28.tar.gz'\n",
    "    !mkdir model_weights\n",
    "    !wget {base_url} && mv faster_rcnn_resnet101_coco_2018_01_28.tar.gz model_weights\n",
    "    !tar -xvf model_weights/faster_rcnn_resnet101_coco_2018_01_28.tar.gz -C model_weights\n",
    "    !cd model_weights/faster_rcnn_resnet101_coco_2018_01_28/saved_model && mkdir 1 && mv variables 1 && mv saved_model.pb 1"
   ]
  },
  {
   "cell_type": "code",
   "execution_count": 34,
   "metadata": {},
   "outputs": [],
   "source": [
    "download_model()"
   ]
  },
  {
   "cell_type": "code",
   "execution_count": 93,
   "metadata": {},
   "outputs": [],
   "source": [
    "def serve_model():\n",
    "    import docker\n",
    "    client = docker.from_env()\n",
    "\n",
    "    for container in client.containers.list(all=True):\n",
    "        if container.name == 'tf-serving':\n",
    "            container.remove(force=True)\n",
    "            \n",
    "    model_dir = os.path.abspath('./') + os.sep + 'model_weights/faster_rcnn_resnet101_coco_2018_01_28/saved_model_manual/saved_model/'\n",
    "    # Serve the detector and the classifiers\n",
    "    volume_bindings = {\n",
    "        model_dir: {\n",
    "            'bind': '/models/detector/',\n",
    "            'mode': 'rw'\n",
    "        }\n",
    "    }\n",
    "\n",
    "    container = client.containers.run('tensorflow/serving:2.3.0-gpu', \n",
    "                                      remove=True,\n",
    "                                      name='tf-serving',\n",
    "                                      runtime='nvidia', \n",
    "                                      command='--model_base_path=/models/detector --model_name=detector',\n",
    "                                      volumes=volume_bindings,\n",
    "                                      ports={'8500/tcp': '8510'},\n",
    "                                      detach=True)\n",
    "    time.sleep(3)\n",
    "    print(container.logs(stdout=True, stderr=True).decode('utf-8'))\n",
    "\n",
    "    return container"
   ]
  },
  {
   "cell_type": "code",
   "execution_count": 100,
   "metadata": {},
   "outputs": [
    {
     "name": "stdout",
     "output_type": "stream",
     "text": [
      "2020-09-11 21:24:39.798416: I tensorflow_serving/model_servers/server.cc:87] Building single TensorFlow model file config:  model_name: detector model_base_path: /models/detector\n",
      "2020-09-11 21:24:39.798520: I tensorflow_serving/model_servers/server_core.cc:464] Adding/updating models.\n",
      "2020-09-11 21:24:39.798528: I tensorflow_serving/model_servers/server_core.cc:575]  (Re-)adding model: detector\n",
      "2020-09-11 21:24:39.898750: I tensorflow_serving/core/basic_manager.cc:739] Successfully reserved resources to load servable {name: detector version: 1}\n",
      "2020-09-11 21:24:39.898761: I tensorflow_serving/core/loader_harness.cc:66] Approving load for servable version {name: detector version: 1}\n",
      "2020-09-11 21:24:39.898765: I tensorflow_serving/core/loader_harness.cc:74] Loading servable version {name: detector version: 1}\n",
      "2020-09-11 21:24:39.898778: I external/org_tensorflow/tensorflow/cc/saved_model/reader.cc:31] Reading SavedModel from: /models/detector/1\n",
      "2020-09-11 21:24:39.979545: I external/org_tensorflow/tensorflow/cc/saved_model/reader.cc:54] Reading meta graph with tags { serve }\n",
      "2020-09-11 21:24:39.979569: I external/org_tensorflow/tensorflow/cc/saved_model/loader.cc:234] Reading SavedModel debug info (if present) from: /models/detector/1\n",
      "2020-09-11 21:24:39.979625: I external/org_tensorflow/tensorflow/core/platform/cpu_feature_guard.cc:142] This TensorFlow binary is optimized with oneAPI Deep Neural Network Library (oneDNN)to use the following CPU instructions in performance-critical operations:  AVX2 FMA\n",
      "To enable them in other operations, rebuild TensorFlow with the appropriate compiler flags.\n",
      "2020-09-11 21:24:39.980598: I external/org_tensorflow/tensorflow/stream_executor/platform/default/dso_loader.cc:48] Successfully opened dynamic library libcuda.so.1\n",
      "2020-09-11 21:24:39.982990: I external/org_tensorflow/tensorflow/stream_executor/cuda/cuda_gpu_executor.cc:982] successful NUMA node read from SysFS had negative value (-1), but there must be at least one NUMA node, so returning NUMA node zero\n",
      "2020-09-11 21:24:39.983156: I external/org_tensorflow/tensorflow/core/common_runtime/gpu/gpu_device.cc:1716] Found device 0 with properties: \n",
      "pciBusID: 0000:01:00.0 name: GeForce RTX 2080 Ti computeCapability: 7.5\n",
      "coreClock: 1.545GHz coreCount: 68 deviceMemorySize: 10.76GiB deviceMemoryBandwidth: 573.69GiB/s\n",
      "2020-09-11 21:24:39.983162: I external/org_tensorflow/tensorflow/stream_executor/platform/default/dlopen_checker_stub.cc:25] GPU libraries are statically linked, skip dlopen check.\n",
      "2020-09-11 21:24:39.983185: I external/org_tensorflow/tensorflow/stream_executor/cuda/cuda_gpu_executor.cc:982] successful NUMA node read from SysFS had negative value (-1), but there must be at least one NUMA node, so returning NUMA node zero\n",
      "2020-09-11 21:24:39.983342: I external/org_tensorflow/tensorflow/stream_executor/cuda/cuda_gpu_executor.cc:982] successful NUMA node read from SysFS had negative value (-1), but there must be at least one NUMA node, so returning NUMA node zero\n",
      "2020-09-11 21:24:39.983484: I external/org_tensorflow/tensorflow/core/common_runtime/gpu/gpu_device.cc:1858] Adding visible gpu devices: 0\n",
      "2020-09-11 21:24:40.550585: I external/org_tensorflow/tensorflow/core/common_runtime/gpu/gpu_device.cc:1257] Device interconnect StreamExecutor with strength 1 edge matrix:\n",
      "2020-09-11 21:24:40.550605: I external/org_tensorflow/tensorflow/core/common_runtime/gpu/gpu_device.cc:1263]      0 \n",
      "2020-09-11 21:24:40.550609: I external/org_tensorflow/tensorflow/core/common_runtime/gpu/gpu_device.cc:1276] 0:   N \n",
      "2020-09-11 21:24:40.550680: I external/org_tensorflow/tensorflow/stream_executor/cuda/cuda_gpu_executor.cc:982] successful NUMA node read from SysFS had negative value (-1), but there must be at least one NUMA node, so returning NUMA node zero\n",
      "2020-09-11 21:24:40.550839: I external/org_tensorflow/tensorflow/stream_executor/cuda/cuda_gpu_executor.cc:982] successful NUMA node read from SysFS had negative value (-1), but there must be at least one NUMA node, so returning NUMA node zero\n",
      "2020-09-11 21:24:40.550980: I external/org_tensorflow/tensorflow/stream_executor/cuda/cuda_gpu_executor.cc:982] successful NUMA node read from SysFS had negative value (-1), but there must be at least one NUMA node, so returning NUMA node zero\n",
      "2020-09-11 21:24:40.551117: I external/org_tensorflow/tensorflow/core/common_runtime/gpu/gpu_device.cc:1402] Created TensorFlow device (/job:localhost/replica:0/task:0/device:GPU:0 with 1308 MB memory) -> physical GPU (device: 0, name: GeForce RTX 2080 Ti, pci bus id: 0000:01:00.0, compute capability: 7.5)\n",
      "2020-09-11 21:24:40.620488: I external/org_tensorflow/tensorflow/cc/saved_model/loader.cc:199] Restoring SavedModel bundle.\n",
      "2020-09-11 21:24:40.620523: I external/org_tensorflow/tensorflow/cc/saved_model/loader.cc:209] The specified SavedModel has no variables; no checkpoints were restored. File does not exist: /models/detector/1/variables/variables.index\n",
      "2020-09-11 21:24:40.620534: I external/org_tensorflow/tensorflow/cc/saved_model/loader.cc:303] SavedModel load for tags { serve }; Status: success: OK. Took 721754 microseconds.\n",
      "2020-09-11 21:24:40.626229: I tensorflow_serving/servables/tensorflow/saved_model_warmup_util.cc:59] No warmup data file found at /models/detector/1/assets.extra/tf_serving_warmup_requests\n",
      "2020-09-11 21:24:40.630728: I tensorflow_serving/core/loader_harness.cc:87] Successfully loaded servable version {name: detector version: 1}\n",
      "2020-09-11 21:24:40.633161: I tensorflow_serving/model_servers/server.cc:367] Running gRPC ModelServer at 0.0.0.0:8500 ...\n",
      "[warn] getaddrinfo: address family for nodename not supported\n",
      "[evhttp_server.cc : 238] NET_LOG: Entering the event loop ...\n",
      "2020-09-11 21:24:40.635383: I tensorflow_serving/model_servers/server.cc:387] Exporting HTTP/REST API at:localhost:8501 ...\n",
      "\n"
     ]
    },
    {
     "data": {
      "text/plain": [
       "<Container: e34a9b894d>"
      ]
     },
     "execution_count": 100,
     "metadata": {},
     "output_type": "execute_result"
    }
   ],
   "source": [
    "serve_model()"
   ]
  },
  {
   "cell_type": "code",
   "execution_count": 102,
   "metadata": {},
   "outputs": [
    {
     "name": "stdout",
     "output_type": "stream",
     "text": [
      "IMGS ARRAY SHAPE\n",
      "(5, 1080, 1920, 3)\n",
      "Time to detect:\n",
      "1.3263859748840332\n",
      "Time to unpack response:\n",
      "0.0021889209747314453\n"
     ]
    }
   ],
   "source": [
    "imgs_array = np.array([np.array(Image.open(img_file).resize((1920, 1080))) for img_file in glob.glob(\"./sample-images/*.jpg\")])\n",
    "print(\"IMGS ARRAY SHAPE\")\n",
    "print(imgs_array.shape)\n",
    "\n",
    "# tf-serving communication setup\n",
    "options = [('grpc.max_receive_message_length', 100 * 4000 * 4000)]\n",
    "channel = grpc.insecure_channel('{host}:{port}'.format(host='localhost', port='8510'), options = options)\n",
    "stub = prediction_service_pb2_grpc.PredictionServiceStub(channel)\n",
    "request = predict_pb2.PredictRequest()\n",
    "request.model_spec.name = 'detector'\n",
    "request.model_spec.signature_name = 'serving_default'\n",
    "\n",
    "t0 = time.time()\n",
    "\n",
    "request.inputs['inputs'].CopyFrom(tf.make_tensor_proto(imgs_array, shape=imgs_array.shape))\n",
    "res = stub.Predict(request, 100.0)\n",
    "\n",
    "print(\"Time to detect:\")\n",
    "t1 = time.time(); print(t1 - t0)\n",
    "\n",
    "boxes = np.reshape(res.outputs['detection_boxes'].float_val, [5, 100, 4])\n",
    "classes = res.outputs['detection_classes'].float_val\n",
    "scores = res.outputs['detection_scores'].float_val\n",
    "            \n",
    "print(\"Time to unpack response:\")\n",
    "t2 = time.time(); print(t2 - t1)"
   ]
  },
  {
   "cell_type": "code",
   "execution_count": null,
   "metadata": {},
   "outputs": [],
   "source": []
  }
 ],
 "metadata": {
  "kernelspec": {
   "display_name": "Python 3",
   "language": "python",
   "name": "python3"
  },
  "language_info": {
   "codemirror_mode": {
    "name": "ipython",
    "version": 3
   },
   "file_extension": ".py",
   "mimetype": "text/x-python",
   "name": "python",
   "nbconvert_exporter": "python",
   "pygments_lexer": "ipython3",
   "version": "3.6.10"
  }
 },
 "nbformat": 4,
 "nbformat_minor": 4
}
